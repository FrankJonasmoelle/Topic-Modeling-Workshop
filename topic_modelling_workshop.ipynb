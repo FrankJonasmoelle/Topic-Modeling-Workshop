{
  "cells": [
    {
      "cell_type": "code",
      "execution_count": 114,
      "metadata": {
        "colab": {
          "base_uri": "https://localhost:8080/"
        },
        "id": "D7naM233J72q",
        "outputId": "77bbc12b-bb76-489f-9a50-66103f300282"
      },
      "outputs": [],
      "source": [
        "#!pip install pyLDAvis==3.4.1\n",
        "#!pip install --upgrade ipykernel"
      ]
    },
    {
      "cell_type": "code",
      "execution_count": 115,
      "metadata": {
        "id": "KVnpzltJJfWs"
      },
      "outputs": [],
      "source": [
        "import nltk\n",
        "import re\n",
        "import os\n",
        "import warnings\n",
        "from gensim import corpora\n",
        "from gensim.models.ldamodel import LdaModel\n",
        "from gensim.models import CoherenceModel\n",
        "import spacy\n",
        "import pyLDAvis\n",
        "import pyLDAvis.gensim\n",
        "import matplotlib.pyplot as plt"
      ]
    },
    {
      "cell_type": "code",
      "execution_count": null,
      "metadata": {},
      "outputs": [],
      "source": [
        "#!python -m spacy download sv_core_news_sm"
      ]
    },
    {
      "cell_type": "code",
      "execution_count": 116,
      "metadata": {
        "colab": {
          "base_uri": "https://localhost:8080/"
        },
        "id": "1bPRS54uSkmZ",
        "outputId": "381fe37d-1b4b-45ae-f0c0-4e29e2537d0a"
      },
      "outputs": [],
      "source": [
        "warnings.filterwarnings(\"ignore\", category=DeprecationWarning)"
      ]
    },
    {
      "cell_type": "code",
      "execution_count": 117,
      "metadata": {
        "colab": {
          "base_uri": "https://localhost:8080/"
        },
        "id": "wpStk8dEVOrw",
        "outputId": "b8b3726e-b12a-45e1-d6e3-ce214f66f414"
      },
      "outputs": [
        {
          "name": "stderr",
          "output_type": "stream",
          "text": [
            "[nltk_data] Downloading package stopwords to\n",
            "[nltk_data]     /Users/jonfr719/nltk_data...\n",
            "[nltk_data]   Package stopwords is already up-to-date!\n"
          ]
        },
        {
          "data": {
            "text/plain": [
              "True"
            ]
          },
          "execution_count": 117,
          "metadata": {},
          "output_type": "execute_result"
        }
      ],
      "source": [
        "nltk.download('stopwords')"
      ]
    },
    {
      "cell_type": "markdown",
      "metadata": {
        "id": "EaTZQ7vtUhK2"
      },
      "source": [
        "# Let's create a simple example corpus\n"
      ]
    },
    {
      "cell_type": "code",
      "execution_count": 118,
      "metadata": {
        "id": "Atcf3n4bUnDq"
      },
      "outputs": [],
      "source": [
        "# coffee\n",
        "doc_1 = \"The aroma of freshly brewed coffee tantalized my senses as I entered the cozy cafe on a brisk morning. \\\n",
        "        With each sip of rich, dark espresso, I felt a surge of energy coursing through my veins, \\\n",
        "        awakening my mind and spirit. As the steam rose from my mug, I savored the robust flavor of \\\n",
        "        the carefully roasted beans, \\\n",
        "        relishing in the simple pleasure of a perfect cup of coffee.\"\n",
        "\n",
        "# tea\n",
        "doc_2 = \"The aroma of freshly steeped tea leaves filled the air, creating a sense of tranquility in the serene tea room. \\\n",
        "        With each delicate sip of fragrant jasmine tea, I felt a soothing warmth spreading through my body, \\\n",
        "        calming my senses. As I held the porcelain teacup in my hands, I savored the gentle infusion of flavors, \\\n",
        "        embracing the peaceful moment offered by a perfect cup of tea.\"\n",
        "\n",
        "# sleep\n",
        "doc_3 = \"As night falls, the world fades away into a realm of dreams where the mind finds solace in the \\\n",
        "        embrace of sleep. In the depths of slumber, the body enters a state of restorative rest, \\\n",
        "        replenishing its energy for the challenges of the coming day. \\\n",
        "        Each peaceful breath in the quiet of the night serves as a reminder of the profound importance \\\n",
        "        of a good night's sleep for overall well-being.\"\n",
        "\n",
        "# morning routines\n",
        "doc_4 = \"Morning routines set the tone for the day, offering a structured start to ensure productivity and balance. \\\n",
        "        From the invigorating aroma of freshly brewed coffee to the calming ritual of meditation, \\\n",
        "        each activity contributes to a harmonious beginning. Whether it's a brisk jog in the crisp \\\n",
        "        morning air or a moment of reflection amidst the chaos, morning routines provide a sacred space \\\n",
        "        to align mind, body, and spirit for the day ahead.\"\n",
        "\n",
        "\n",
        "documents = [doc_1, doc_2, doc_3, doc_4]"
      ]
    },
    {
      "cell_type": "code",
      "execution_count": 119,
      "metadata": {},
      "outputs": [
        {
          "data": {
            "text/plain": [
              "['The aroma of freshly brewed coffee tantalized my senses as I entered the cozy cafe on a brisk morning.         With each sip of rich, dark espresso, I felt a surge of energy coursing through my veins,         awakening my mind and spirit. As the steam rose from my mug, I savored the robust flavor of         the carefully roasted beans,         relishing in the simple pleasure of a perfect cup of coffee.',\n",
              " 'The aroma of freshly steeped tea leaves filled the air, creating a sense of tranquility in the serene tea room.         With each delicate sip of fragrant jasmine tea, I felt a soothing warmth spreading through my body,         calming my senses. As I held the porcelain teacup in my hands, I savored the gentle infusion of flavors,         embracing the peaceful moment offered by a perfect cup of tea.',\n",
              " \"As night falls, the world fades away into a realm of dreams where the mind finds solace in the         embrace of sleep. In the depths of slumber, the body enters a state of restorative rest,         replenishing its energy for the challenges of the coming day.         Each peaceful breath in the quiet of the night serves as a reminder of the profound importance         of a good night's sleep for overall well-being.\",\n",
              " \"Morning routines set the tone for the day, offering a structured start to ensure productivity and balance.         From the invigorating aroma of freshly brewed coffee to the calming ritual of meditation,         each activity contributes to a harmonious beginning. Whether it's a brisk jog in the crisp         morning air or a moment of reflection amidst the chaos, morning routines provide a sacred space         to align mind, body, and spirit for the day ahead.\"]"
            ]
          },
          "execution_count": 119,
          "metadata": {},
          "output_type": "execute_result"
        }
      ],
      "source": [
        "documents"
      ]
    },
    {
      "cell_type": "markdown",
      "metadata": {
        "id": "JKRmjyyvUyt8"
      },
      "source": [
        "## Step 1: Preprocessing"
      ]
    },
    {
      "cell_type": "code",
      "execution_count": 120,
      "metadata": {
        "id": "grrN7D_9U0hh"
      },
      "outputs": [],
      "source": [
        "def to_lowercase(document):\n",
        "    document = document.lower()\n",
        "    return document"
      ]
    },
    {
      "cell_type": "code",
      "execution_count": 121,
      "metadata": {
        "id": "VAyGUQQjU3ct"
      },
      "outputs": [],
      "source": [
        "def remove_special_characters_english(document):\n",
        "    document = re.sub(r'[^a-zA-Z\\s]', '', document)\n",
        "    return document"
      ]
    },
    {
      "cell_type": "code",
      "execution_count": 122,
      "metadata": {
        "id": "Tyt_5EtUU74v"
      },
      "outputs": [],
      "source": [
        "def remove_special_characters_swedish(document):\n",
        "    document = re.sub(r'[^a-zA-ZåäöÅÄÖ\\s]', '', document)\n",
        "    return document"
      ]
    },
    {
      "cell_type": "code",
      "execution_count": 123,
      "metadata": {
        "id": "fziWYLagU_4K"
      },
      "outputs": [],
      "source": [
        "def tokenize(document):\n",
        "    document = document.split()\n",
        "    return document"
      ]
    },
    {
      "cell_type": "code",
      "execution_count": 124,
      "metadata": {
        "id": "i_XAxo3UVA7-"
      },
      "outputs": [],
      "source": [
        "stopwords_english = nltk.corpus.stopwords.words('english')"
      ]
    },
    {
      "cell_type": "code",
      "execution_count": 56,
      "metadata": {
        "id": "tXxe9W7vffPE"
      },
      "outputs": [],
      "source": [
        "stopwords_swedish = nltk.corpus.stopwords.words('swedish')"
      ]
    },
    {
      "cell_type": "code",
      "execution_count": 70,
      "metadata": {
        "id": "qxvwvruiVC8W"
      },
      "outputs": [],
      "source": [
        "def remove_stopwords_english(document):\n",
        "    document = [token for token in document if token not in stopwords_english]\n",
        "    return document"
      ]
    },
    {
      "cell_type": "code",
      "execution_count": 71,
      "metadata": {
        "id": "rH7OHS79fjm-"
      },
      "outputs": [],
      "source": [
        "def remove_stopwords_swedish(document):\n",
        "    document = [token for token in document if token not in stopwords_swedish]\n",
        "    return document"
      ]
    },
    {
      "cell_type": "code",
      "execution_count": 126,
      "metadata": {
        "id": "o6DXs81iVuDK"
      },
      "outputs": [],
      "source": [
        "def remove_letters(document):\n",
        "    document = [token for token in document if len(token) > 1]\n",
        "    return document"
      ]
    },
    {
      "cell_type": "code",
      "execution_count": 127,
      "metadata": {
        "id": "rNGuKrpBVwPK"
      },
      "outputs": [],
      "source": [
        "def lemmatize_english(tokenized_document):\n",
        "    nlp = spacy.load(\"en_core_web_sm\", disable=['ner', 'parser', 'textcat'])\n",
        "    doc = nlp(\" \".join(tokenized_document))\n",
        "    document = [token.lemma_ for token in doc]\n",
        "    return document"
      ]
    },
    {
      "cell_type": "code",
      "execution_count": 128,
      "metadata": {
        "id": "AAHqicjTV0sN"
      },
      "outputs": [],
      "source": [
        "def lemmatize_swedish(tokenized_document):\n",
        "    nlp = spacy.load(\"sv_core_news_sm\", disable=['ner', 'parser', 'textcat'])\n",
        "    doc = nlp(\" \".join(tokenized_document))\n",
        "    document = [token.lemma_ for token in doc]\n",
        "    return document"
      ]
    },
    {
      "cell_type": "markdown",
      "metadata": {
        "id": "G1F-c563fEeF"
      },
      "source": [
        "### Preprocessing example:"
      ]
    },
    {
      "cell_type": "code",
      "execution_count": 130,
      "metadata": {
        "id": "pg-T0TpUelfT"
      },
      "outputs": [],
      "source": [
        "test_text = \"This is 3!? somE ranDom.    Texts?!?! Please P helping me...\""
      ]
    },
    {
      "cell_type": "code",
      "execution_count": 131,
      "metadata": {
        "colab": {
          "base_uri": "https://localhost:8080/",
          "height": 56
        },
        "id": "J9jNXDaienoD",
        "outputId": "58571571-8cdf-414a-b3af-224533df6f49"
      },
      "outputs": [
        {
          "data": {
            "text/plain": [
              "'this is 3!? some random.    texts?!?! please p helping me...'"
            ]
          },
          "execution_count": 131,
          "metadata": {},
          "output_type": "execute_result"
        }
      ],
      "source": [
        "test_text = to_lowercase(test_text)\n",
        "test_text"
      ]
    },
    {
      "cell_type": "code",
      "execution_count": 132,
      "metadata": {
        "colab": {
          "base_uri": "https://localhost:8080/",
          "height": 56
        },
        "id": "mgwhAnfxenlr",
        "outputId": "ada1b405-edd8-492e-df93-010777ba5046"
      },
      "outputs": [
        {
          "data": {
            "text/plain": [
              "'this is  some random    texts please p helping me'"
            ]
          },
          "execution_count": 132,
          "metadata": {},
          "output_type": "execute_result"
        }
      ],
      "source": [
        "test_text = remove_special_characters_english(test_text)\n",
        "test_text"
      ]
    },
    {
      "cell_type": "code",
      "execution_count": 133,
      "metadata": {
        "colab": {
          "base_uri": "https://localhost:8080/"
        },
        "id": "hV-vOxyWe0LT",
        "outputId": "67e8e014-add1-4586-8942-b0e30189a089"
      },
      "outputs": [
        {
          "data": {
            "text/plain": [
              "['this', 'is', 'some', 'random', 'texts', 'please', 'p', 'helping', 'me']"
            ]
          },
          "execution_count": 133,
          "metadata": {},
          "output_type": "execute_result"
        }
      ],
      "source": [
        "test_text = tokenize(test_text)\n",
        "test_text"
      ]
    },
    {
      "cell_type": "code",
      "execution_count": 134,
      "metadata": {
        "colab": {
          "base_uri": "https://localhost:8080/"
        },
        "id": "Zp9l1xeoe0I-",
        "outputId": "a96e9409-8b1d-4e05-d8f3-6826bca1cc5f"
      },
      "outputs": [
        {
          "data": {
            "text/plain": [
              "['random', 'texts', 'please', 'p', 'helping']"
            ]
          },
          "execution_count": 134,
          "metadata": {},
          "output_type": "execute_result"
        }
      ],
      "source": [
        "test_text = remove_stopwords_english(test_text)\n",
        "test_text"
      ]
    },
    {
      "cell_type": "code",
      "execution_count": 135,
      "metadata": {
        "colab": {
          "base_uri": "https://localhost:8080/"
        },
        "id": "WA4bJJilenjP",
        "outputId": "4027fd05-899f-4656-ede9-c8c99424966b"
      },
      "outputs": [
        {
          "data": {
            "text/plain": [
              "['random', 'texts', 'please', 'helping']"
            ]
          },
          "execution_count": 135,
          "metadata": {},
          "output_type": "execute_result"
        }
      ],
      "source": [
        "test_text = remove_letters(test_text)\n",
        "test_text"
      ]
    },
    {
      "cell_type": "code",
      "execution_count": 136,
      "metadata": {
        "colab": {
          "base_uri": "https://localhost:8080/"
        },
        "id": "BhM5LR3reUHm",
        "outputId": "2cdb522c-2f7a-4a04-8273-df314d6ac8b0"
      },
      "outputs": [
        {
          "data": {
            "text/plain": [
              "['random', 'text', 'please', 'help']"
            ]
          },
          "execution_count": 136,
          "metadata": {},
          "output_type": "execute_result"
        }
      ],
      "source": [
        "test_text = lemmatize_english(test_text)\n",
        "test_text"
      ]
    },
    {
      "cell_type": "code",
      "execution_count": 137,
      "metadata": {
        "id": "tT9KhgkoV2l7"
      },
      "outputs": [],
      "source": [
        "def preprocess_english(documents):\n",
        "    preprocessed_documents = []\n",
        "\n",
        "    for document in documents:\n",
        "        document = to_lowercase(document)\n",
        "        document = remove_special_characters_english(document)\n",
        "        document = tokenize(document)\n",
        "        document = remove_stopwords_english(document)\n",
        "        document = lemmatize_english(document)\n",
        "        document = remove_letters(document)\n",
        "        preprocessed_documents.append(document)\n",
        "    return preprocessed_documents"
      ]
    },
    {
      "cell_type": "code",
      "execution_count": 138,
      "metadata": {
        "id": "h2l6GkLUc9sv"
      },
      "outputs": [],
      "source": [
        "def preprocess_swedish(documents):\n",
        "    preprocessed_documents = []\n",
        "\n",
        "    for document in documents:\n",
        "        document = to_lowercase(document)\n",
        "        document = remove_special_characters_english(document)\n",
        "        document = tokenize(document)\n",
        "        document = remove_stopwords_swedish(document)\n",
        "        document = lemmatize_swedish(document)\n",
        "        document = remove_letters(document)\n",
        "        preprocessed_documents.append(document)\n",
        "    return preprocessed_documents"
      ]
    },
    {
      "cell_type": "code",
      "execution_count": 139,
      "metadata": {
        "colab": {
          "base_uri": "https://localhost:8080/"
        },
        "id": "ESmDCaNPWMPT",
        "outputId": "dd5fe7c7-3911-4cfb-fc71-67c7403808cd"
      },
      "outputs": [
        {
          "data": {
            "text/plain": [
              "['The aroma of freshly brewed coffee tantalized my senses as I entered the cozy cafe on a brisk morning.         With each sip of rich, dark espresso, I felt a surge of energy coursing through my veins,         awakening my mind and spirit. As the steam rose from my mug, I savored the robust flavor of         the carefully roasted beans,         relishing in the simple pleasure of a perfect cup of coffee.',\n",
              " 'The aroma of freshly steeped tea leaves filled the air, creating a sense of tranquility in the serene tea room.         With each delicate sip of fragrant jasmine tea, I felt a soothing warmth spreading through my body,         calming my senses. As I held the porcelain teacup in my hands, I savored the gentle infusion of flavors,         embracing the peaceful moment offered by a perfect cup of tea.',\n",
              " \"As night falls, the world fades away into a realm of dreams where the mind finds solace in the         embrace of sleep. In the depths of slumber, the body enters a state of restorative rest,         replenishing its energy for the challenges of the coming day.         Each peaceful breath in the quiet of the night serves as a reminder of the profound importance         of a good night's sleep for overall well-being.\",\n",
              " \"Morning routines set the tone for the day, offering a structured start to ensure productivity and balance.         From the invigorating aroma of freshly brewed coffee to the calming ritual of meditation,         each activity contributes to a harmonious beginning. Whether it's a brisk jog in the crisp         morning air or a moment of reflection amidst the chaos, morning routines provide a sacred space         to align mind, body, and spirit for the day ahead.\"]"
            ]
          },
          "execution_count": 139,
          "metadata": {},
          "output_type": "execute_result"
        }
      ],
      "source": [
        "documents"
      ]
    },
    {
      "cell_type": "code",
      "execution_count": 140,
      "metadata": {
        "colab": {
          "base_uri": "https://localhost:8080/"
        },
        "id": "Slx6BWZUWEu4",
        "outputId": "f29ff7dd-2e7d-4a9a-d840-0cfa8d38f1e9"
      },
      "outputs": [
        {
          "data": {
            "text/plain": [
              "[['aroma',\n",
              "  'freshly',\n",
              "  'brew',\n",
              "  'coffee',\n",
              "  'tantalize',\n",
              "  'sense',\n",
              "  'enter',\n",
              "  'cozy',\n",
              "  'cafe',\n",
              "  'brisk',\n",
              "  'morning',\n",
              "  'sip',\n",
              "  'rich',\n",
              "  'dark',\n",
              "  'espresso',\n",
              "  'feel',\n",
              "  'surge',\n",
              "  'energy',\n",
              "  'course',\n",
              "  'vein',\n",
              "  'awaken',\n",
              "  'mind',\n",
              "  'spirit',\n",
              "  'steam',\n",
              "  'rise',\n",
              "  'mug',\n",
              "  'savor',\n",
              "  'robust',\n",
              "  'flavor',\n",
              "  'carefully',\n",
              "  'roast',\n",
              "  'bean',\n",
              "  'relish',\n",
              "  'simple',\n",
              "  'pleasure',\n",
              "  'perfect',\n",
              "  'cup',\n",
              "  'coffee'],\n",
              " ['aroma',\n",
              "  'freshly',\n",
              "  'steep',\n",
              "  'tea',\n",
              "  'leave',\n",
              "  'fill',\n",
              "  'air',\n",
              "  'create',\n",
              "  'sense',\n",
              "  'tranquility',\n",
              "  'serene',\n",
              "  'tea',\n",
              "  'room',\n",
              "  'delicate',\n",
              "  'sip',\n",
              "  'fragrant',\n",
              "  'jasmine',\n",
              "  'tea',\n",
              "  'feel',\n",
              "  'soothe',\n",
              "  'warmth',\n",
              "  'spread',\n",
              "  'body',\n",
              "  'calm',\n",
              "  'sense',\n",
              "  'hold',\n",
              "  'porcelain',\n",
              "  'teacup',\n",
              "  'hand',\n",
              "  'savored',\n",
              "  'gentle',\n",
              "  'infusion',\n",
              "  'flavor',\n",
              "  'embrace',\n",
              "  'peaceful',\n",
              "  'moment',\n",
              "  'offer',\n",
              "  'perfect',\n",
              "  'cup',\n",
              "  'tea'],\n",
              " ['night',\n",
              "  'fall',\n",
              "  'world',\n",
              "  'fade',\n",
              "  'away',\n",
              "  'realm',\n",
              "  'dream',\n",
              "  'mind',\n",
              "  'find',\n",
              "  'solace',\n",
              "  'embrace',\n",
              "  'sleep',\n",
              "  'depth',\n",
              "  'slumber',\n",
              "  'body',\n",
              "  'enter',\n",
              "  'state',\n",
              "  'restorative',\n",
              "  'rest',\n",
              "  'replenish',\n",
              "  'energy',\n",
              "  'challenge',\n",
              "  'come',\n",
              "  'day',\n",
              "  'peaceful',\n",
              "  'breath',\n",
              "  'quiet',\n",
              "  'night',\n",
              "  'serve',\n",
              "  'reminder',\n",
              "  'profound',\n",
              "  'importance',\n",
              "  'good',\n",
              "  'night',\n",
              "  'sleep',\n",
              "  'overall',\n",
              "  'wellbeing'],\n",
              " ['morning',\n",
              "  'routine',\n",
              "  'set',\n",
              "  'tone',\n",
              "  'day',\n",
              "  'offer',\n",
              "  'structured',\n",
              "  'start',\n",
              "  'ensure',\n",
              "  'productivity',\n",
              "  'balance',\n",
              "  'invigorate',\n",
              "  'aroma',\n",
              "  'freshly',\n",
              "  'brew',\n",
              "  'coffee',\n",
              "  'calm',\n",
              "  'ritual',\n",
              "  'meditation',\n",
              "  'activity',\n",
              "  'contribute',\n",
              "  'harmonious',\n",
              "  'begin',\n",
              "  'whether',\n",
              "  'brisk',\n",
              "  'jog',\n",
              "  'crisp',\n",
              "  'morning',\n",
              "  'air',\n",
              "  'moment',\n",
              "  'reflection',\n",
              "  'amidst',\n",
              "  'chaos',\n",
              "  'morning',\n",
              "  'routine',\n",
              "  'provide',\n",
              "  'sacred',\n",
              "  'space',\n",
              "  'align',\n",
              "  'mind',\n",
              "  'body',\n",
              "  'spirit',\n",
              "  'day',\n",
              "  'ahead']]"
            ]
          },
          "execution_count": 140,
          "metadata": {},
          "output_type": "execute_result"
        }
      ],
      "source": [
        "preprocessed_documents = preprocess_english(documents)\n",
        "preprocessed_documents"
      ]
    },
    {
      "cell_type": "markdown",
      "metadata": {
        "id": "63BxeJlUWYGH"
      },
      "source": [
        "## Gensim Topicmodelling with LDA"
      ]
    },
    {
      "cell_type": "code",
      "execution_count": 141,
      "metadata": {
        "id": "8y8lkPHcWRhO"
      },
      "outputs": [],
      "source": [
        "id2word = corpora.Dictionary(preprocessed_documents)\n",
        "corpus = [id2word.doc2bow(text) for text in preprocessed_documents]"
      ]
    },
    {
      "cell_type": "code",
      "execution_count": 142,
      "metadata": {
        "colab": {
          "base_uri": "https://localhost:8080/"
        },
        "id": "sikYBQ5SWdB2",
        "outputId": "780c52ea-53cc-4342-aa56-07ec5ec6384a"
      },
      "outputs": [
        {
          "data": {
            "text/plain": [
              "[[(0, 1),\n",
              "  (1, 1),\n",
              "  (2, 1),\n",
              "  (3, 1),\n",
              "  (4, 1),\n",
              "  (5, 1),\n",
              "  (6, 1),\n",
              "  (7, 2),\n",
              "  (8, 1),\n",
              "  (9, 1),\n",
              "  (10, 1),\n",
              "  (11, 1),\n",
              "  (12, 1),\n",
              "  (13, 1),\n",
              "  (14, 1),\n",
              "  (15, 1),\n",
              "  (16, 1),\n",
              "  (17, 1),\n",
              "  (18, 1),\n",
              "  (19, 1),\n",
              "  (20, 1),\n",
              "  (21, 1),\n",
              "  (22, 1),\n",
              "  (23, 1),\n",
              "  (24, 1),\n",
              "  (25, 1),\n",
              "  (26, 1),\n",
              "  (27, 1),\n",
              "  (28, 1),\n",
              "  (29, 1),\n",
              "  (30, 1),\n",
              "  (31, 1),\n",
              "  (32, 1),\n",
              "  (33, 1),\n",
              "  (34, 1),\n",
              "  (35, 1),\n",
              "  (36, 1)],\n",
              " [(0, 1),\n",
              "  (10, 1),\n",
              "  (15, 1),\n",
              "  (16, 1),\n",
              "  (17, 1),\n",
              "  (21, 1),\n",
              "  (29, 2),\n",
              "  (31, 1),\n",
              "  (37, 1),\n",
              "  (38, 1),\n",
              "  (39, 1),\n",
              "  (40, 1),\n",
              "  (41, 1),\n",
              "  (42, 1),\n",
              "  (43, 1),\n",
              "  (44, 1),\n",
              "  (45, 1),\n",
              "  (46, 1),\n",
              "  (47, 1),\n",
              "  (48, 1),\n",
              "  (49, 1),\n",
              "  (50, 1),\n",
              "  (51, 1),\n",
              "  (52, 1),\n",
              "  (53, 1),\n",
              "  (54, 1),\n",
              "  (55, 1),\n",
              "  (56, 1),\n",
              "  (57, 1),\n",
              "  (58, 1),\n",
              "  (59, 1),\n",
              "  (60, 1),\n",
              "  (61, 4),\n",
              "  (62, 1),\n",
              "  (63, 1),\n",
              "  (64, 1)],\n",
              " [(12, 1),\n",
              "  (13, 1),\n",
              "  (18, 1),\n",
              "  (38, 1),\n",
              "  (42, 1),\n",
              "  (53, 1),\n",
              "  (65, 1),\n",
              "  (66, 1),\n",
              "  (67, 1),\n",
              "  (68, 1),\n",
              "  (69, 1),\n",
              "  (70, 1),\n",
              "  (71, 1),\n",
              "  (72, 1),\n",
              "  (73, 1),\n",
              "  (74, 1),\n",
              "  (75, 1),\n",
              "  (76, 1),\n",
              "  (77, 3),\n",
              "  (78, 1),\n",
              "  (79, 1),\n",
              "  (80, 1),\n",
              "  (81, 1),\n",
              "  (82, 1),\n",
              "  (83, 1),\n",
              "  (84, 1),\n",
              "  (85, 1),\n",
              "  (86, 1),\n",
              "  (87, 2),\n",
              "  (88, 1),\n",
              "  (89, 1),\n",
              "  (90, 1),\n",
              "  (91, 1),\n",
              "  (92, 1)],\n",
              " [(0, 1),\n",
              "  (3, 1),\n",
              "  (4, 1),\n",
              "  (7, 1),\n",
              "  (17, 1),\n",
              "  (18, 1),\n",
              "  (19, 3),\n",
              "  (32, 1),\n",
              "  (37, 1),\n",
              "  (38, 1),\n",
              "  (39, 1),\n",
              "  (51, 1),\n",
              "  (52, 1),\n",
              "  (69, 2),\n",
              "  (93, 1),\n",
              "  (94, 1),\n",
              "  (95, 1),\n",
              "  (96, 1),\n",
              "  (97, 1),\n",
              "  (98, 1),\n",
              "  (99, 1),\n",
              "  (100, 1),\n",
              "  (101, 1),\n",
              "  (102, 1),\n",
              "  (103, 1),\n",
              "  (104, 1),\n",
              "  (105, 1),\n",
              "  (106, 1),\n",
              "  (107, 1),\n",
              "  (108, 1),\n",
              "  (109, 1),\n",
              "  (110, 1),\n",
              "  (111, 2),\n",
              "  (112, 1),\n",
              "  (113, 1),\n",
              "  (114, 1),\n",
              "  (115, 1),\n",
              "  (116, 1),\n",
              "  (117, 1),\n",
              "  (118, 1)]]"
            ]
          },
          "execution_count": 142,
          "metadata": {},
          "output_type": "execute_result"
        }
      ],
      "source": [
        "corpus\n",
        "# mapping (word_id, word_frequency)\n",
        "# (7, 2) implies that word with id 7 occurs 2 times in document 1"
      ]
    },
    {
      "cell_type": "code",
      "execution_count": 145,
      "metadata": {},
      "outputs": [
        {
          "data": {
            "text/plain": [
              "[(0, 1),\n",
              " (10, 1),\n",
              " (15, 1),\n",
              " (16, 1),\n",
              " (17, 1),\n",
              " (21, 1),\n",
              " (29, 2),\n",
              " (31, 1),\n",
              " (37, 1),\n",
              " (38, 1),\n",
              " (39, 1),\n",
              " (40, 1),\n",
              " (41, 1),\n",
              " (42, 1),\n",
              " (43, 1),\n",
              " (44, 1),\n",
              " (45, 1),\n",
              " (46, 1),\n",
              " (47, 1),\n",
              " (48, 1),\n",
              " (49, 1),\n",
              " (50, 1),\n",
              " (51, 1),\n",
              " (52, 1),\n",
              " (53, 1),\n",
              " (54, 1),\n",
              " (55, 1),\n",
              " (56, 1),\n",
              " (57, 1),\n",
              " (58, 1),\n",
              " (59, 1),\n",
              " (60, 1),\n",
              " (61, 4),\n",
              " (62, 1),\n",
              " (63, 1),\n",
              " (64, 1)]"
            ]
          },
          "execution_count": 145,
          "metadata": {},
          "output_type": "execute_result"
        }
      ],
      "source": [
        "corpus[1]"
      ]
    },
    {
      "cell_type": "code",
      "execution_count": 143,
      "metadata": {
        "colab": {
          "base_uri": "https://localhost:8080/",
          "height": 56
        },
        "id": "b2obItmeWdeh",
        "outputId": "172c4248-5fb7-4291-e69e-f0afb1859d3a"
      },
      "outputs": [
        {
          "data": {
            "text/plain": [
              "'coffee'"
            ]
          },
          "execution_count": 143,
          "metadata": {},
          "output_type": "execute_result"
        }
      ],
      "source": [
        "id2word[7]"
      ]
    },
    {
      "cell_type": "markdown",
      "metadata": {
        "id": "ZQ2g45wqT-x-"
      },
      "source": [
        "### Instantiate LDA Model"
      ]
    },
    {
      "cell_type": "code",
      "execution_count": 158,
      "metadata": {
        "id": "H7tljBuJUDFl"
      },
      "outputs": [],
      "source": [
        "lda_model = LdaModel(corpus, num_topics=7, id2word=id2word, passes=15, random_state=1)"
      ]
    },
    {
      "cell_type": "markdown",
      "metadata": {
        "id": "0bqE2PK1UE1E"
      },
      "source": [
        "### Print the resulting topics"
      ]
    },
    {
      "cell_type": "code",
      "execution_count": 159,
      "metadata": {
        "colab": {
          "base_uri": "https://localhost:8080/"
        },
        "id": "nZBHRMB9W6aA",
        "outputId": "0b7c6d60-650a-4dff-9928-9ec5ebdadcea"
      },
      "outputs": [
        {
          "name": "stdout",
          "output_type": "stream",
          "text": [
            "(0, '0.008*\"tea\" + 0.008*\"body\" + 0.008*\"sense\"')\n",
            "(1, '0.073*\"tea\" + 0.038*\"sense\" + 0.020*\"room\"')\n",
            "(2, '0.008*\"coffee\" + 0.008*\"cozy\" + 0.008*\"flavor\"')\n",
            "(3, '0.008*\"morning\" + 0.008*\"routine\" + 0.008*\"day\"')\n",
            "(4, '0.039*\"coffee\" + 0.021*\"morning\" + 0.021*\"freshly\"')\n",
            "(5, '0.051*\"morning\" + 0.035*\"day\" + 0.035*\"routine\"')\n",
            "(6, '0.058*\"night\" + 0.040*\"sleep\" + 0.021*\"importance\"')\n"
          ]
        }
      ],
      "source": [
        "topics = lda_model.print_topics(num_words=3)\n",
        "for topic in topics:\n",
        "    print(topic)"
      ]
    },
    {
      "cell_type": "markdown",
      "metadata": {
        "id": "qcpPczrvUOfS"
      },
      "source": [
        "Print the topics for each document"
      ]
    },
    {
      "cell_type": "code",
      "execution_count": 150,
      "metadata": {
        "colab": {
          "base_uri": "https://localhost:8080/"
        },
        "id": "RaWk9OJvXmpR",
        "outputId": "44ccfc6b-34b7-46e9-f8e1-0d25043e3f86"
      },
      "outputs": [
        {
          "name": "stdout",
          "output_type": "stream",
          "text": [
            "Document 1:\n",
            "Topic 2: Probability 0.9805244207382202, \n",
            " 0.033*\"coffee\" + 0.018*\"enter\" + 0.018*\"energy\"\n",
            "\n",
            "\n",
            "Document 2:\n",
            "Topic 1: Probability 0.9815219640731812, \n",
            " 0.061*\"tea\" + 0.032*\"sense\" + 0.018*\"freshly\"\n",
            "\n",
            "\n",
            "Document 3:\n",
            "Topic 0: Probability 0.980141818523407, \n",
            " 0.049*\"night\" + 0.034*\"sleep\" + 0.019*\"body\"\n",
            "\n",
            "\n",
            "Document 4:\n",
            "Topic 3: Probability 0.9831551313400269, \n",
            " 0.044*\"morning\" + 0.031*\"day\" + 0.030*\"routine\"\n",
            "\n",
            "\n"
          ]
        }
      ],
      "source": [
        "for id, doc in enumerate(corpus):\n",
        "    doc_topics = lda_model.get_document_topics(doc)\n",
        "\n",
        "    # Sort topics by probability in descending order\n",
        "    doc_topics = sorted(doc_topics, key=lambda x: x[1], reverse=True)\n",
        "\n",
        "    # Print the document id and the dominant topics\n",
        "    print(f\"Document {id + 1}:\")\n",
        "    for topic, prob in doc_topics:\n",
        "        print(f\"Topic {topic}: Probability {prob}, \\n {topics[topic][1]}\")\n",
        "        print(\"\\n\")"
      ]
    },
    {
      "cell_type": "markdown",
      "metadata": {
        "id": "fCSCRSZrZDkU"
      },
      "source": [
        "## How can we find the optimal number of topics?"
      ]
    },
    {
      "cell_type": "markdown",
      "metadata": {
        "id": "dcRGLD2VgTPg"
      },
      "source": [
        "- We use the coherence score!\n",
        "- We want to find a model that leads to a high coherence score\n",
        "- A higher coherence score indicates that the words within the topic tend to co-occur together more frequently, topic is more coherent and interpretable\n",
        "- Use the \"Elbow Method\" to determine optimal number of topics"
      ]
    },
    {
      "cell_type": "code",
      "execution_count": 155,
      "metadata": {
        "id": "PAPodC37Xwrv"
      },
      "outputs": [],
      "source": [
        "def calculate_coherence_scores(corpus, id2word, preprocessed_documents, max_topics=10):\n",
        "    coherence_scores = []\n",
        "    for k in range(max_topics):\n",
        "        lda_model = LdaModel(corpus, num_topics=1+k, id2word=id2word, passes=15, random_state=1)\n",
        "        coherence_model_lda = CoherenceModel(model=lda_model, texts=preprocessed_documents, dictionary=id2word, coherence='c_v')\n",
        "        coherence_score = coherence_model_lda.get_coherence()\n",
        "        coherence_scores.append(coherence_score)\n",
        "    return coherence_scores"
      ]
    },
    {
      "cell_type": "code",
      "execution_count": 156,
      "metadata": {
        "colab": {
          "base_uri": "https://localhost:8080/"
        },
        "id": "NdbhNoD9ZieE",
        "outputId": "71bde776-aefc-41fb-c144-7f9297de124c"
      },
      "outputs": [
        {
          "name": "stderr",
          "output_type": "stream",
          "text": [
            "/Users/jonfr719/Desktop/topic_modelling_workshop/myenv/lib/python3.9/site-packages/urllib3/__init__.py:35: NotOpenSSLWarning: urllib3 v2 only supports OpenSSL 1.1.1+, currently the 'ssl' module is compiled with 'LibreSSL 2.8.3'. See: https://github.com/urllib3/urllib3/issues/3020\n",
            "  warnings.warn(\n",
            "/Users/jonfr719/Desktop/topic_modelling_workshop/myenv/lib/python3.9/site-packages/urllib3/__init__.py:35: NotOpenSSLWarning: urllib3 v2 only supports OpenSSL 1.1.1+, currently the 'ssl' module is compiled with 'LibreSSL 2.8.3'. See: https://github.com/urllib3/urllib3/issues/3020\n",
            "  warnings.warn(\n",
            "/Users/jonfr719/Desktop/topic_modelling_workshop/myenv/lib/python3.9/site-packages/urllib3/__init__.py:35: NotOpenSSLWarning: urllib3 v2 only supports OpenSSL 1.1.1+, currently the 'ssl' module is compiled with 'LibreSSL 2.8.3'. See: https://github.com/urllib3/urllib3/issues/3020\n",
            "  warnings.warn(\n",
            "/Users/jonfr719/Desktop/topic_modelling_workshop/myenv/lib/python3.9/site-packages/urllib3/__init__.py:35: NotOpenSSLWarning: urllib3 v2 only supports OpenSSL 1.1.1+, currently the 'ssl' module is compiled with 'LibreSSL 2.8.3'. See: https://github.com/urllib3/urllib3/issues/3020\n",
            "  warnings.warn(\n",
            "/Users/jonfr719/Desktop/topic_modelling_workshop/myenv/lib/python3.9/site-packages/urllib3/__init__.py:35: NotOpenSSLWarning: urllib3 v2 only supports OpenSSL 1.1.1+, currently the 'ssl' module is compiled with 'LibreSSL 2.8.3'. See: https://github.com/urllib3/urllib3/issues/3020\n",
            "  warnings.warn(\n",
            "/Users/jonfr719/Desktop/topic_modelling_workshop/myenv/lib/python3.9/site-packages/urllib3/__init__.py:35: NotOpenSSLWarning: urllib3 v2 only supports OpenSSL 1.1.1+, currently the 'ssl' module is compiled with 'LibreSSL 2.8.3'. See: https://github.com/urllib3/urllib3/issues/3020\n",
            "  warnings.warn(\n",
            "/Users/jonfr719/Desktop/topic_modelling_workshop/myenv/lib/python3.9/site-packages/urllib3/__init__.py:35: NotOpenSSLWarning: urllib3 v2 only supports OpenSSL 1.1.1+, currently the 'ssl' module is compiled with 'LibreSSL 2.8.3'. See: https://github.com/urllib3/urllib3/issues/3020\n",
            "  warnings.warn(\n",
            "/Users/jonfr719/Desktop/topic_modelling_workshop/myenv/lib/python3.9/site-packages/urllib3/__init__.py:35: NotOpenSSLWarning: urllib3 v2 only supports OpenSSL 1.1.1+, currently the 'ssl' module is compiled with 'LibreSSL 2.8.3'. See: https://github.com/urllib3/urllib3/issues/3020\n",
            "  warnings.warn(\n",
            "/Users/jonfr719/Desktop/topic_modelling_workshop/myenv/lib/python3.9/site-packages/urllib3/__init__.py:35: NotOpenSSLWarning: urllib3 v2 only supports OpenSSL 1.1.1+, currently the 'ssl' module is compiled with 'LibreSSL 2.8.3'. See: https://github.com/urllib3/urllib3/issues/3020\n",
            "  warnings.warn(\n",
            "/Users/jonfr719/Desktop/topic_modelling_workshop/myenv/lib/python3.9/site-packages/urllib3/__init__.py:35: NotOpenSSLWarning: urllib3 v2 only supports OpenSSL 1.1.1+, currently the 'ssl' module is compiled with 'LibreSSL 2.8.3'. See: https://github.com/urllib3/urllib3/issues/3020\n",
            "  warnings.warn(\n",
            "/Users/jonfr719/Desktop/topic_modelling_workshop/myenv/lib/python3.9/site-packages/urllib3/__init__.py:35: NotOpenSSLWarning: urllib3 v2 only supports OpenSSL 1.1.1+, currently the 'ssl' module is compiled with 'LibreSSL 2.8.3'. See: https://github.com/urllib3/urllib3/issues/3020\n",
            "  warnings.warn(\n",
            "/Users/jonfr719/Desktop/topic_modelling_workshop/myenv/lib/python3.9/site-packages/urllib3/__init__.py:35: NotOpenSSLWarning: urllib3 v2 only supports OpenSSL 1.1.1+, currently the 'ssl' module is compiled with 'LibreSSL 2.8.3'. See: https://github.com/urllib3/urllib3/issues/3020\n",
            "  warnings.warn(\n",
            "/Users/jonfr719/Desktop/topic_modelling_workshop/myenv/lib/python3.9/site-packages/urllib3/__init__.py:35: NotOpenSSLWarning: urllib3 v2 only supports OpenSSL 1.1.1+, currently the 'ssl' module is compiled with 'LibreSSL 2.8.3'. See: https://github.com/urllib3/urllib3/issues/3020\n",
            "  warnings.warn(\n",
            "/Users/jonfr719/Desktop/topic_modelling_workshop/myenv/lib/python3.9/site-packages/urllib3/__init__.py:35: NotOpenSSLWarning: urllib3 v2 only supports OpenSSL 1.1.1+, currently the 'ssl' module is compiled with 'LibreSSL 2.8.3'. See: https://github.com/urllib3/urllib3/issues/3020\n",
            "  warnings.warn(\n",
            "/Users/jonfr719/Desktop/topic_modelling_workshop/myenv/lib/python3.9/site-packages/urllib3/__init__.py:35: NotOpenSSLWarning: urllib3 v2 only supports OpenSSL 1.1.1+, currently the 'ssl' module is compiled with 'LibreSSL 2.8.3'. See: https://github.com/urllib3/urllib3/issues/3020\n",
            "  warnings.warn(\n",
            "/Users/jonfr719/Desktop/topic_modelling_workshop/myenv/lib/python3.9/site-packages/urllib3/__init__.py:35: NotOpenSSLWarning: urllib3 v2 only supports OpenSSL 1.1.1+, currently the 'ssl' module is compiled with 'LibreSSL 2.8.3'. See: https://github.com/urllib3/urllib3/issues/3020\n",
            "  warnings.warn(\n",
            "/Users/jonfr719/Desktop/topic_modelling_workshop/myenv/lib/python3.9/site-packages/urllib3/__init__.py:35: NotOpenSSLWarning: urllib3 v2 only supports OpenSSL 1.1.1+, currently the 'ssl' module is compiled with 'LibreSSL 2.8.3'. See: https://github.com/urllib3/urllib3/issues/3020\n",
            "  warnings.warn(\n",
            "/Users/jonfr719/Desktop/topic_modelling_workshop/myenv/lib/python3.9/site-packages/urllib3/__init__.py:35: NotOpenSSLWarning: urllib3 v2 only supports OpenSSL 1.1.1+, currently the 'ssl' module is compiled with 'LibreSSL 2.8.3'. See: https://github.com/urllib3/urllib3/issues/3020\n",
            "  warnings.warn(\n",
            "/Users/jonfr719/Desktop/topic_modelling_workshop/myenv/lib/python3.9/site-packages/urllib3/__init__.py:35: NotOpenSSLWarning: urllib3 v2 only supports OpenSSL 1.1.1+, currently the 'ssl' module is compiled with 'LibreSSL 2.8.3'. See: https://github.com/urllib3/urllib3/issues/3020\n",
            "  warnings.warn(\n",
            "/Users/jonfr719/Desktop/topic_modelling_workshop/myenv/lib/python3.9/site-packages/urllib3/__init__.py:35: NotOpenSSLWarning: urllib3 v2 only supports OpenSSL 1.1.1+, currently the 'ssl' module is compiled with 'LibreSSL 2.8.3'. See: https://github.com/urllib3/urllib3/issues/3020\n",
            "  warnings.warn(\n",
            "/Users/jonfr719/Desktop/topic_modelling_workshop/myenv/lib/python3.9/site-packages/urllib3/__init__.py:35: NotOpenSSLWarning: urllib3 v2 only supports OpenSSL 1.1.1+, currently the 'ssl' module is compiled with 'LibreSSL 2.8.3'. See: https://github.com/urllib3/urllib3/issues/3020\n",
            "  warnings.warn(\n",
            "/Users/jonfr719/Desktop/topic_modelling_workshop/myenv/lib/python3.9/site-packages/urllib3/__init__.py:35: NotOpenSSLWarning: urllib3 v2 only supports OpenSSL 1.1.1+, currently the 'ssl' module is compiled with 'LibreSSL 2.8.3'. See: https://github.com/urllib3/urllib3/issues/3020\n",
            "  warnings.warn(\n",
            "/Users/jonfr719/Desktop/topic_modelling_workshop/myenv/lib/python3.9/site-packages/urllib3/__init__.py:35: NotOpenSSLWarning: urllib3 v2 only supports OpenSSL 1.1.1+, currently the 'ssl' module is compiled with 'LibreSSL 2.8.3'. See: https://github.com/urllib3/urllib3/issues/3020\n",
            "  warnings.warn(\n",
            "/Users/jonfr719/Desktop/topic_modelling_workshop/myenv/lib/python3.9/site-packages/urllib3/__init__.py:35: NotOpenSSLWarning: urllib3 v2 only supports OpenSSL 1.1.1+, currently the 'ssl' module is compiled with 'LibreSSL 2.8.3'. See: https://github.com/urllib3/urllib3/issues/3020\n",
            "  warnings.warn(\n",
            "/Users/jonfr719/Desktop/topic_modelling_workshop/myenv/lib/python3.9/site-packages/urllib3/__init__.py:35: NotOpenSSLWarning: urllib3 v2 only supports OpenSSL 1.1.1+, currently the 'ssl' module is compiled with 'LibreSSL 2.8.3'. See: https://github.com/urllib3/urllib3/issues/3020\n",
            "  warnings.warn(\n",
            "/Users/jonfr719/Desktop/topic_modelling_workshop/myenv/lib/python3.9/site-packages/urllib3/__init__.py:35: NotOpenSSLWarning: urllib3 v2 only supports OpenSSL 1.1.1+, currently the 'ssl' module is compiled with 'LibreSSL 2.8.3'. See: https://github.com/urllib3/urllib3/issues/3020\n",
            "  warnings.warn(\n",
            "/Users/jonfr719/Desktop/topic_modelling_workshop/myenv/lib/python3.9/site-packages/urllib3/__init__.py:35: NotOpenSSLWarning: urllib3 v2 only supports OpenSSL 1.1.1+, currently the 'ssl' module is compiled with 'LibreSSL 2.8.3'. See: https://github.com/urllib3/urllib3/issues/3020\n",
            "  warnings.warn(\n",
            "/Users/jonfr719/Desktop/topic_modelling_workshop/myenv/lib/python3.9/site-packages/urllib3/__init__.py:35: NotOpenSSLWarning: urllib3 v2 only supports OpenSSL 1.1.1+, currently the 'ssl' module is compiled with 'LibreSSL 2.8.3'. See: https://github.com/urllib3/urllib3/issues/3020\n",
            "  warnings.warn(\n",
            "/Users/jonfr719/Desktop/topic_modelling_workshop/myenv/lib/python3.9/site-packages/urllib3/__init__.py:35: NotOpenSSLWarning: urllib3 v2 only supports OpenSSL 1.1.1+, currently the 'ssl' module is compiled with 'LibreSSL 2.8.3'. See: https://github.com/urllib3/urllib3/issues/3020\n",
            "  warnings.warn(\n",
            "/Users/jonfr719/Desktop/topic_modelling_workshop/myenv/lib/python3.9/site-packages/urllib3/__init__.py:35: NotOpenSSLWarning: urllib3 v2 only supports OpenSSL 1.1.1+, currently the 'ssl' module is compiled with 'LibreSSL 2.8.3'. See: https://github.com/urllib3/urllib3/issues/3020\n",
            "  warnings.warn(\n",
            "/Users/jonfr719/Desktop/topic_modelling_workshop/myenv/lib/python3.9/site-packages/urllib3/__init__.py:35: NotOpenSSLWarning: urllib3 v2 only supports OpenSSL 1.1.1+, currently the 'ssl' module is compiled with 'LibreSSL 2.8.3'. See: https://github.com/urllib3/urllib3/issues/3020\n",
            "  warnings.warn(\n",
            "/Users/jonfr719/Desktop/topic_modelling_workshop/myenv/lib/python3.9/site-packages/urllib3/__init__.py:35: NotOpenSSLWarning: urllib3 v2 only supports OpenSSL 1.1.1+, currently the 'ssl' module is compiled with 'LibreSSL 2.8.3'. See: https://github.com/urllib3/urllib3/issues/3020\n",
            "  warnings.warn(\n",
            "/Users/jonfr719/Desktop/topic_modelling_workshop/myenv/lib/python3.9/site-packages/urllib3/__init__.py:35: NotOpenSSLWarning: urllib3 v2 only supports OpenSSL 1.1.1+, currently the 'ssl' module is compiled with 'LibreSSL 2.8.3'. See: https://github.com/urllib3/urllib3/issues/3020\n",
            "  warnings.warn(\n",
            "/Users/jonfr719/Desktop/topic_modelling_workshop/myenv/lib/python3.9/site-packages/urllib3/__init__.py:35: NotOpenSSLWarning: urllib3 v2 only supports OpenSSL 1.1.1+, currently the 'ssl' module is compiled with 'LibreSSL 2.8.3'. See: https://github.com/urllib3/urllib3/issues/3020\n",
            "  warnings.warn(\n",
            "/Users/jonfr719/Desktop/topic_modelling_workshop/myenv/lib/python3.9/site-packages/urllib3/__init__.py:35: NotOpenSSLWarning: urllib3 v2 only supports OpenSSL 1.1.1+, currently the 'ssl' module is compiled with 'LibreSSL 2.8.3'. See: https://github.com/urllib3/urllib3/issues/3020\n",
            "  warnings.warn(\n",
            "/Users/jonfr719/Desktop/topic_modelling_workshop/myenv/lib/python3.9/site-packages/urllib3/__init__.py:35: NotOpenSSLWarning: urllib3 v2 only supports OpenSSL 1.1.1+, currently the 'ssl' module is compiled with 'LibreSSL 2.8.3'. See: https://github.com/urllib3/urllib3/issues/3020\n",
            "  warnings.warn(\n",
            "/Users/jonfr719/Desktop/topic_modelling_workshop/myenv/lib/python3.9/site-packages/urllib3/__init__.py:35: NotOpenSSLWarning: urllib3 v2 only supports OpenSSL 1.1.1+, currently the 'ssl' module is compiled with 'LibreSSL 2.8.3'. See: https://github.com/urllib3/urllib3/issues/3020\n",
            "  warnings.warn(\n",
            "/Users/jonfr719/Desktop/topic_modelling_workshop/myenv/lib/python3.9/site-packages/urllib3/__init__.py:35: NotOpenSSLWarning: urllib3 v2 only supports OpenSSL 1.1.1+, currently the 'ssl' module is compiled with 'LibreSSL 2.8.3'. See: https://github.com/urllib3/urllib3/issues/3020\n",
            "  warnings.warn(\n",
            "/Users/jonfr719/Desktop/topic_modelling_workshop/myenv/lib/python3.9/site-packages/urllib3/__init__.py:35: NotOpenSSLWarning: urllib3 v2 only supports OpenSSL 1.1.1+, currently the 'ssl' module is compiled with 'LibreSSL 2.8.3'. See: https://github.com/urllib3/urllib3/issues/3020\n",
            "  warnings.warn(\n",
            "/Users/jonfr719/Desktop/topic_modelling_workshop/myenv/lib/python3.9/site-packages/urllib3/__init__.py:35: NotOpenSSLWarning: urllib3 v2 only supports OpenSSL 1.1.1+, currently the 'ssl' module is compiled with 'LibreSSL 2.8.3'. See: https://github.com/urllib3/urllib3/issues/3020\n",
            "  warnings.warn(\n",
            "/Users/jonfr719/Desktop/topic_modelling_workshop/myenv/lib/python3.9/site-packages/urllib3/__init__.py:35: NotOpenSSLWarning: urllib3 v2 only supports OpenSSL 1.1.1+, currently the 'ssl' module is compiled with 'LibreSSL 2.8.3'. See: https://github.com/urllib3/urllib3/issues/3020\n",
            "  warnings.warn(\n",
            "/Users/jonfr719/Desktop/topic_modelling_workshop/myenv/lib/python3.9/site-packages/urllib3/__init__.py:35: NotOpenSSLWarning: urllib3 v2 only supports OpenSSL 1.1.1+, currently the 'ssl' module is compiled with 'LibreSSL 2.8.3'. See: https://github.com/urllib3/urllib3/issues/3020\n",
            "  warnings.warn(\n",
            "/Users/jonfr719/Desktop/topic_modelling_workshop/myenv/lib/python3.9/site-packages/urllib3/__init__.py:35: NotOpenSSLWarning: urllib3 v2 only supports OpenSSL 1.1.1+, currently the 'ssl' module is compiled with 'LibreSSL 2.8.3'. See: https://github.com/urllib3/urllib3/issues/3020\n",
            "  warnings.warn(\n",
            "/Users/jonfr719/Desktop/topic_modelling_workshop/myenv/lib/python3.9/site-packages/urllib3/__init__.py:35: NotOpenSSLWarning: urllib3 v2 only supports OpenSSL 1.1.1+, currently the 'ssl' module is compiled with 'LibreSSL 2.8.3'. See: https://github.com/urllib3/urllib3/issues/3020\n",
            "  warnings.warn(\n",
            "/Users/jonfr719/Desktop/topic_modelling_workshop/myenv/lib/python3.9/site-packages/urllib3/__init__.py:35: NotOpenSSLWarning: urllib3 v2 only supports OpenSSL 1.1.1+, currently the 'ssl' module is compiled with 'LibreSSL 2.8.3'. See: https://github.com/urllib3/urllib3/issues/3020\n",
            "  warnings.warn(\n",
            "/Users/jonfr719/Desktop/topic_modelling_workshop/myenv/lib/python3.9/site-packages/urllib3/__init__.py:35: NotOpenSSLWarning: urllib3 v2 only supports OpenSSL 1.1.1+, currently the 'ssl' module is compiled with 'LibreSSL 2.8.3'. See: https://github.com/urllib3/urllib3/issues/3020\n",
            "  warnings.warn(\n",
            "/Users/jonfr719/Desktop/topic_modelling_workshop/myenv/lib/python3.9/site-packages/urllib3/__init__.py:35: NotOpenSSLWarning: urllib3 v2 only supports OpenSSL 1.1.1+, currently the 'ssl' module is compiled with 'LibreSSL 2.8.3'. See: https://github.com/urllib3/urllib3/issues/3020\n",
            "  warnings.warn(\n",
            "/Users/jonfr719/Desktop/topic_modelling_workshop/myenv/lib/python3.9/site-packages/urllib3/__init__.py:35: NotOpenSSLWarning: urllib3 v2 only supports OpenSSL 1.1.1+, currently the 'ssl' module is compiled with 'LibreSSL 2.8.3'. See: https://github.com/urllib3/urllib3/issues/3020\n",
            "  warnings.warn(\n",
            "/Users/jonfr719/Desktop/topic_modelling_workshop/myenv/lib/python3.9/site-packages/urllib3/__init__.py:35: NotOpenSSLWarning: urllib3 v2 only supports OpenSSL 1.1.1+, currently the 'ssl' module is compiled with 'LibreSSL 2.8.3'. See: https://github.com/urllib3/urllib3/issues/3020\n",
            "  warnings.warn(\n",
            "/Users/jonfr719/Desktop/topic_modelling_workshop/myenv/lib/python3.9/site-packages/urllib3/__init__.py:35: NotOpenSSLWarning: urllib3 v2 only supports OpenSSL 1.1.1+, currently the 'ssl' module is compiled with 'LibreSSL 2.8.3'. See: https://github.com/urllib3/urllib3/issues/3020\n",
            "  warnings.warn(\n",
            "/Users/jonfr719/Desktop/topic_modelling_workshop/myenv/lib/python3.9/site-packages/urllib3/__init__.py:35: NotOpenSSLWarning: urllib3 v2 only supports OpenSSL 1.1.1+, currently the 'ssl' module is compiled with 'LibreSSL 2.8.3'. See: https://github.com/urllib3/urllib3/issues/3020\n",
            "  warnings.warn(\n",
            "/Users/jonfr719/Desktop/topic_modelling_workshop/myenv/lib/python3.9/site-packages/urllib3/__init__.py:35: NotOpenSSLWarning: urllib3 v2 only supports OpenSSL 1.1.1+, currently the 'ssl' module is compiled with 'LibreSSL 2.8.3'. See: https://github.com/urllib3/urllib3/issues/3020\n",
            "  warnings.warn(\n",
            "/Users/jonfr719/Desktop/topic_modelling_workshop/myenv/lib/python3.9/site-packages/urllib3/__init__.py:35: NotOpenSSLWarning: urllib3 v2 only supports OpenSSL 1.1.1+, currently the 'ssl' module is compiled with 'LibreSSL 2.8.3'. See: https://github.com/urllib3/urllib3/issues/3020\n",
            "  warnings.warn(\n",
            "/Users/jonfr719/Desktop/topic_modelling_workshop/myenv/lib/python3.9/site-packages/urllib3/__init__.py:35: NotOpenSSLWarning: urllib3 v2 only supports OpenSSL 1.1.1+, currently the 'ssl' module is compiled with 'LibreSSL 2.8.3'. See: https://github.com/urllib3/urllib3/issues/3020\n",
            "  warnings.warn(\n",
            "/Users/jonfr719/Desktop/topic_modelling_workshop/myenv/lib/python3.9/site-packages/urllib3/__init__.py:35: NotOpenSSLWarning: urllib3 v2 only supports OpenSSL 1.1.1+, currently the 'ssl' module is compiled with 'LibreSSL 2.8.3'. See: https://github.com/urllib3/urllib3/issues/3020\n",
            "  warnings.warn(\n",
            "/Users/jonfr719/Desktop/topic_modelling_workshop/myenv/lib/python3.9/site-packages/urllib3/__init__.py:35: NotOpenSSLWarning: urllib3 v2 only supports OpenSSL 1.1.1+, currently the 'ssl' module is compiled with 'LibreSSL 2.8.3'. See: https://github.com/urllib3/urllib3/issues/3020\n",
            "  warnings.warn(\n",
            "/Users/jonfr719/Desktop/topic_modelling_workshop/myenv/lib/python3.9/site-packages/urllib3/__init__.py:35: NotOpenSSLWarning: urllib3 v2 only supports OpenSSL 1.1.1+, currently the 'ssl' module is compiled with 'LibreSSL 2.8.3'. See: https://github.com/urllib3/urllib3/issues/3020\n",
            "  warnings.warn(\n",
            "/Users/jonfr719/Desktop/topic_modelling_workshop/myenv/lib/python3.9/site-packages/urllib3/__init__.py:35: NotOpenSSLWarning: urllib3 v2 only supports OpenSSL 1.1.1+, currently the 'ssl' module is compiled with 'LibreSSL 2.8.3'. See: https://github.com/urllib3/urllib3/issues/3020\n",
            "  warnings.warn(\n",
            "/Users/jonfr719/Desktop/topic_modelling_workshop/myenv/lib/python3.9/site-packages/urllib3/__init__.py:35: NotOpenSSLWarning: urllib3 v2 only supports OpenSSL 1.1.1+, currently the 'ssl' module is compiled with 'LibreSSL 2.8.3'. See: https://github.com/urllib3/urllib3/issues/3020\n",
            "  warnings.warn(\n",
            "/Users/jonfr719/Desktop/topic_modelling_workshop/myenv/lib/python3.9/site-packages/urllib3/__init__.py:35: NotOpenSSLWarning: urllib3 v2 only supports OpenSSL 1.1.1+, currently the 'ssl' module is compiled with 'LibreSSL 2.8.3'. See: https://github.com/urllib3/urllib3/issues/3020\n",
            "  warnings.warn(\n",
            "/Users/jonfr719/Desktop/topic_modelling_workshop/myenv/lib/python3.9/site-packages/urllib3/__init__.py:35: NotOpenSSLWarning: urllib3 v2 only supports OpenSSL 1.1.1+, currently the 'ssl' module is compiled with 'LibreSSL 2.8.3'. See: https://github.com/urllib3/urllib3/issues/3020\n",
            "  warnings.warn(\n",
            "/Users/jonfr719/Desktop/topic_modelling_workshop/myenv/lib/python3.9/site-packages/urllib3/__init__.py:35: NotOpenSSLWarning: urllib3 v2 only supports OpenSSL 1.1.1+, currently the 'ssl' module is compiled with 'LibreSSL 2.8.3'. See: https://github.com/urllib3/urllib3/issues/3020\n",
            "  warnings.warn(\n",
            "/Users/jonfr719/Desktop/topic_modelling_workshop/myenv/lib/python3.9/site-packages/urllib3/__init__.py:35: NotOpenSSLWarning: urllib3 v2 only supports OpenSSL 1.1.1+, currently the 'ssl' module is compiled with 'LibreSSL 2.8.3'. See: https://github.com/urllib3/urllib3/issues/3020\n",
            "  warnings.warn(\n",
            "/Users/jonfr719/Desktop/topic_modelling_workshop/myenv/lib/python3.9/site-packages/urllib3/__init__.py:35: NotOpenSSLWarning: urllib3 v2 only supports OpenSSL 1.1.1+, currently the 'ssl' module is compiled with 'LibreSSL 2.8.3'. See: https://github.com/urllib3/urllib3/issues/3020\n",
            "  warnings.warn(\n",
            "/Users/jonfr719/Desktop/topic_modelling_workshop/myenv/lib/python3.9/site-packages/urllib3/__init__.py:35: NotOpenSSLWarning: urllib3 v2 only supports OpenSSL 1.1.1+, currently the 'ssl' module is compiled with 'LibreSSL 2.8.3'. See: https://github.com/urllib3/urllib3/issues/3020\n",
            "  warnings.warn(\n",
            "/Users/jonfr719/Desktop/topic_modelling_workshop/myenv/lib/python3.9/site-packages/urllib3/__init__.py:35: NotOpenSSLWarning: urllib3 v2 only supports OpenSSL 1.1.1+, currently the 'ssl' module is compiled with 'LibreSSL 2.8.3'. See: https://github.com/urllib3/urllib3/issues/3020\n",
            "  warnings.warn(\n",
            "/Users/jonfr719/Desktop/topic_modelling_workshop/myenv/lib/python3.9/site-packages/urllib3/__init__.py:35: NotOpenSSLWarning: urllib3 v2 only supports OpenSSL 1.1.1+, currently the 'ssl' module is compiled with 'LibreSSL 2.8.3'. See: https://github.com/urllib3/urllib3/issues/3020\n",
            "  warnings.warn(\n",
            "/Users/jonfr719/Desktop/topic_modelling_workshop/myenv/lib/python3.9/site-packages/urllib3/__init__.py:35: NotOpenSSLWarning: urllib3 v2 only supports OpenSSL 1.1.1+, currently the 'ssl' module is compiled with 'LibreSSL 2.8.3'. See: https://github.com/urllib3/urllib3/issues/3020\n",
            "  warnings.warn(\n",
            "/Users/jonfr719/Desktop/topic_modelling_workshop/myenv/lib/python3.9/site-packages/urllib3/__init__.py:35: NotOpenSSLWarning: urllib3 v2 only supports OpenSSL 1.1.1+, currently the 'ssl' module is compiled with 'LibreSSL 2.8.3'. See: https://github.com/urllib3/urllib3/issues/3020\n",
            "  warnings.warn(\n",
            "/Users/jonfr719/Desktop/topic_modelling_workshop/myenv/lib/python3.9/site-packages/urllib3/__init__.py:35: NotOpenSSLWarning: urllib3 v2 only supports OpenSSL 1.1.1+, currently the 'ssl' module is compiled with 'LibreSSL 2.8.3'. See: https://github.com/urllib3/urllib3/issues/3020\n",
            "  warnings.warn(\n",
            "/Users/jonfr719/Desktop/topic_modelling_workshop/myenv/lib/python3.9/site-packages/urllib3/__init__.py:35: NotOpenSSLWarning: urllib3 v2 only supports OpenSSL 1.1.1+, currently the 'ssl' module is compiled with 'LibreSSL 2.8.3'. See: https://github.com/urllib3/urllib3/issues/3020\n",
            "  warnings.warn(\n",
            "/Users/jonfr719/Desktop/topic_modelling_workshop/myenv/lib/python3.9/site-packages/urllib3/__init__.py:35: NotOpenSSLWarning: urllib3 v2 only supports OpenSSL 1.1.1+, currently the 'ssl' module is compiled with 'LibreSSL 2.8.3'. See: https://github.com/urllib3/urllib3/issues/3020\n",
            "  warnings.warn(\n",
            "/Users/jonfr719/Desktop/topic_modelling_workshop/myenv/lib/python3.9/site-packages/urllib3/__init__.py:35: NotOpenSSLWarning: urllib3 v2 only supports OpenSSL 1.1.1+, currently the 'ssl' module is compiled with 'LibreSSL 2.8.3'. See: https://github.com/urllib3/urllib3/issues/3020\n",
            "  warnings.warn(\n",
            "/Users/jonfr719/Desktop/topic_modelling_workshop/myenv/lib/python3.9/site-packages/urllib3/__init__.py:35: NotOpenSSLWarning: urllib3 v2 only supports OpenSSL 1.1.1+, currently the 'ssl' module is compiled with 'LibreSSL 2.8.3'. See: https://github.com/urllib3/urllib3/issues/3020\n",
            "  warnings.warn(\n",
            "/Users/jonfr719/Desktop/topic_modelling_workshop/myenv/lib/python3.9/site-packages/urllib3/__init__.py:35: NotOpenSSLWarning: urllib3 v2 only supports OpenSSL 1.1.1+, currently the 'ssl' module is compiled with 'LibreSSL 2.8.3'. See: https://github.com/urllib3/urllib3/issues/3020\n",
            "  warnings.warn(\n",
            "/Users/jonfr719/Desktop/topic_modelling_workshop/myenv/lib/python3.9/site-packages/urllib3/__init__.py:35: NotOpenSSLWarning: urllib3 v2 only supports OpenSSL 1.1.1+, currently the 'ssl' module is compiled with 'LibreSSL 2.8.3'. See: https://github.com/urllib3/urllib3/issues/3020\n",
            "  warnings.warn(\n",
            "/Users/jonfr719/Desktop/topic_modelling_workshop/myenv/lib/python3.9/site-packages/urllib3/__init__.py:35: NotOpenSSLWarning: urllib3 v2 only supports OpenSSL 1.1.1+, currently the 'ssl' module is compiled with 'LibreSSL 2.8.3'. See: https://github.com/urllib3/urllib3/issues/3020\n",
            "  warnings.warn(\n",
            "/Users/jonfr719/Desktop/topic_modelling_workshop/myenv/lib/python3.9/site-packages/urllib3/__init__.py:35: NotOpenSSLWarning: urllib3 v2 only supports OpenSSL 1.1.1+, currently the 'ssl' module is compiled with 'LibreSSL 2.8.3'. See: https://github.com/urllib3/urllib3/issues/3020\n",
            "  warnings.warn(\n",
            "/Users/jonfr719/Desktop/topic_modelling_workshop/myenv/lib/python3.9/site-packages/urllib3/__init__.py:35: NotOpenSSLWarning: urllib3 v2 only supports OpenSSL 1.1.1+, currently the 'ssl' module is compiled with 'LibreSSL 2.8.3'. See: https://github.com/urllib3/urllib3/issues/3020\n",
            "  warnings.warn(\n",
            "/Users/jonfr719/Desktop/topic_modelling_workshop/myenv/lib/python3.9/site-packages/urllib3/__init__.py:35: NotOpenSSLWarning: urllib3 v2 only supports OpenSSL 1.1.1+, currently the 'ssl' module is compiled with 'LibreSSL 2.8.3'. See: https://github.com/urllib3/urllib3/issues/3020\n",
            "  warnings.warn(\n",
            "/Users/jonfr719/Desktop/topic_modelling_workshop/myenv/lib/python3.9/site-packages/urllib3/__init__.py:35: NotOpenSSLWarning: urllib3 v2 only supports OpenSSL 1.1.1+, currently the 'ssl' module is compiled with 'LibreSSL 2.8.3'. See: https://github.com/urllib3/urllib3/issues/3020\n",
            "  warnings.warn(\n",
            "/Users/jonfr719/Desktop/topic_modelling_workshop/myenv/lib/python3.9/site-packages/urllib3/__init__.py:35: NotOpenSSLWarning: urllib3 v2 only supports OpenSSL 1.1.1+, currently the 'ssl' module is compiled with 'LibreSSL 2.8.3'. See: https://github.com/urllib3/urllib3/issues/3020\n",
            "  warnings.warn(\n",
            "/Users/jonfr719/Desktop/topic_modelling_workshop/myenv/lib/python3.9/site-packages/urllib3/__init__.py:35: NotOpenSSLWarning: urllib3 v2 only supports OpenSSL 1.1.1+, currently the 'ssl' module is compiled with 'LibreSSL 2.8.3'. See: https://github.com/urllib3/urllib3/issues/3020\n",
            "  warnings.warn(\n",
            "/Users/jonfr719/Desktop/topic_modelling_workshop/myenv/lib/python3.9/site-packages/urllib3/__init__.py:35: NotOpenSSLWarning: urllib3 v2 only supports OpenSSL 1.1.1+, currently the 'ssl' module is compiled with 'LibreSSL 2.8.3'. See: https://github.com/urllib3/urllib3/issues/3020\n",
            "  warnings.warn(\n",
            "/Users/jonfr719/Desktop/topic_modelling_workshop/myenv/lib/python3.9/site-packages/urllib3/__init__.py:35: NotOpenSSLWarning: urllib3 v2 only supports OpenSSL 1.1.1+, currently the 'ssl' module is compiled with 'LibreSSL 2.8.3'. See: https://github.com/urllib3/urllib3/issues/3020\n",
            "  warnings.warn(\n",
            "/Users/jonfr719/Desktop/topic_modelling_workshop/myenv/lib/python3.9/site-packages/urllib3/__init__.py:35: NotOpenSSLWarning: urllib3 v2 only supports OpenSSL 1.1.1+, currently the 'ssl' module is compiled with 'LibreSSL 2.8.3'. See: https://github.com/urllib3/urllib3/issues/3020\n",
            "  warnings.warn(\n",
            "/Users/jonfr719/Desktop/topic_modelling_workshop/myenv/lib/python3.9/site-packages/urllib3/__init__.py:35: NotOpenSSLWarning: urllib3 v2 only supports OpenSSL 1.1.1+, currently the 'ssl' module is compiled with 'LibreSSL 2.8.3'. See: https://github.com/urllib3/urllib3/issues/3020\n",
            "  warnings.warn(\n",
            "/Users/jonfr719/Desktop/topic_modelling_workshop/myenv/lib/python3.9/site-packages/urllib3/__init__.py:35: NotOpenSSLWarning: urllib3 v2 only supports OpenSSL 1.1.1+, currently the 'ssl' module is compiled with 'LibreSSL 2.8.3'. See: https://github.com/urllib3/urllib3/issues/3020\n",
            "  warnings.warn(\n",
            "/Users/jonfr719/Desktop/topic_modelling_workshop/myenv/lib/python3.9/site-packages/urllib3/__init__.py:35: NotOpenSSLWarning: urllib3 v2 only supports OpenSSL 1.1.1+, currently the 'ssl' module is compiled with 'LibreSSL 2.8.3'. See: https://github.com/urllib3/urllib3/issues/3020\n",
            "  warnings.warn(\n",
            "/Users/jonfr719/Desktop/topic_modelling_workshop/myenv/lib/python3.9/site-packages/urllib3/__init__.py:35: NotOpenSSLWarning: urllib3 v2 only supports OpenSSL 1.1.1+, currently the 'ssl' module is compiled with 'LibreSSL 2.8.3'. See: https://github.com/urllib3/urllib3/issues/3020\n",
            "  warnings.warn(\n"
          ]
        },
        {
          "data": {
            "text/plain": [
              "[0.3082028799523205,\n",
              " 0.3011128087185201,\n",
              " 0.7329060846428858,\n",
              " 0.8649793510627883,\n",
              " 0.8122628278859892,\n",
              " 0.7712635741077962,\n",
              " 0.8853488946158085,\n",
              " 0.8405937405784534,\n",
              " 0.7948177640447704,\n",
              " 0.7012926133475059]"
            ]
          },
          "execution_count": 156,
          "metadata": {},
          "output_type": "execute_result"
        }
      ],
      "source": [
        "coherence_scores = calculate_coherence_scores(corpus, id2word, preprocessed_documents, max_topics=10)\n",
        "coherence_scores"
      ]
    },
    {
      "cell_type": "code",
      "execution_count": 157,
      "metadata": {
        "colab": {
          "base_uri": "https://localhost:8080/",
          "height": 470
        },
        "id": "cAwADbIGaIFp",
        "outputId": "a14aeaa1-a9aa-4378-9ad7-f92b970d3e81"
      },
      "outputs": [
        {
          "data": {
            "image/png": "[encoded data removed]",
            "text/plain": [
              "<Figure size 640x480 with 1 Axes>"
            ]
          },
          "metadata": {},
          "output_type": "display_data"
        }
      ],
      "source": [
        "# plot coherence scores\n",
        "\n",
        "num_topics = range(1, len(coherence_scores) + 1)\n",
        "plt.plot(num_topics, coherence_scores, marker='o')\n",
        "\n",
        "# Adding labels and title\n",
        "plt.xlabel('Number of Topics')\n",
        "plt.ylabel('Coherence Score')\n",
        "\n",
        "plt.xticks(num_topics)\n",
        "\n",
        "plt.show()"
      ]
    },
    {
      "cell_type": "markdown",
      "metadata": {
        "id": "3-yAe03iaZIq"
      },
      "source": [
        "# Visualize the Topics"
      ]
    },
    {
      "cell_type": "code",
      "execution_count": 164,
      "metadata": {
        "id": "zUY9vwmraf3R"
      },
      "outputs": [],
      "source": [
        "lda_model = LdaModel(corpus, num_topics=2, id2word=id2word, passes=15)\n"
      ]
    },
    {
      "cell_type": "code",
      "execution_count": 165,
      "metadata": {
        "colab": {
          "base_uri": "https://localhost:8080/",
          "height": 861
        },
        "id": "x9qGvMJxaaHr",
        "outputId": "5111bcae-5c0f-400b-f48b-e8441f3cc5e4"
      },
      "outputs": [
        {
          "data": {
            "text/html": [
              "\n",
              "<link rel=\"stylesheet\" type=\"text/css\" href=\"https://cdn.jsdelivr.net/gh/bmabey/pyLDAvis@3.4.0/pyLDAvis/js/ldavis.v1.0.0.css\">\n",
              "\n",
              "\n",
              "<div id=\"ldavis_el96040112330121928142891701\" style=\"background-color:white;\"></div>\n",
              "<script type=\"text/javascript\">\n",
              "\n",
              "var ldavis_el96040112330121928142891701_data = {\"mdsDat\": {\"x\": [0.06415382282489482, -0.06415382282489482], \"y\": [0.0, 0.0], \"topics\": [1, 2], \"cluster\": [1, 1], \"Freq\": [51.57604459244089, 48.42395540755912]}, \"tinfo\": {\"Term\": [\"tea\", \"morning\", \"night\", \"coffee\", \"embrace\", \"peaceful\", \"sleep\", \"routine\", \"brew\", \"spirit\", \"brisk\", \"steep\", \"fragrant\", \"leave\", \"porcelain\", \"hand\", \"warmth\", \"jasmine\", \"tranquility\", \"serene\", \"quiet\", \"teacup\", \"room\", \"fill\", \"delicate\", \"savored\", \"soothe\", \"hold\", \"replenish\", \"spread\", \"morning\", \"coffee\", \"routine\", \"brew\", \"spirit\", \"brisk\", \"meditation\", \"ensure\", \"tone\", \"space\", \"chaos\", \"jog\", \"contribute\", \"balance\", \"crisp\", \"ahead\", \"activity\", \"set\", \"ritual\", \"sacred\", \"begin\", \"harmonious\", \"reflection\", \"amidst\", \"start\", \"provide\", \"whether\", \"productivity\", \"invigorate\", \"structured\", \"day\", \"freshly\", \"aroma\", \"mind\", \"calm\", \"moment\", \"air\", \"offer\", \"feel\", \"flavor\", \"perfect\", \"cup\", \"tea\", \"night\", \"embrace\", \"peaceful\", \"sleep\", \"steep\", \"fragrant\", \"leave\", \"porcelain\", \"hand\", \"warmth\", \"jasmine\", \"tranquility\", \"serene\", \"quiet\", \"teacup\", \"room\", \"fill\", \"delicate\", \"savored\", \"soothe\", \"hold\", \"replenish\", \"spread\", \"gentle\", \"depth\", \"profound\", \"solace\", \"infusion\", \"dream\", \"sense\", \"body\", \"energy\", \"enter\", \"sip\", \"cup\", \"perfect\", \"flavor\", \"feel\", \"offer\", \"air\", \"moment\"], \"Freq\": [2.0, 2.0, 2.0, 2.0, 1.0, 1.0, 1.0, 1.0, 1.0, 1.0, 1.0, 1.0, 1.0, 1.0, 1.0, 1.0, 1.0, 1.0, 1.0, 1.0, 1.0, 1.0, 1.0, 1.0, 1.0, 1.0, 1.0, 1.0, 1.0, 1.0, 2.606141136304249, 2.0266491743543336, 1.4479525707662302, 1.4477843953184955, 1.4476466167046382, 1.4476009450798675, 0.8687872602195672, 0.8687825250343904, 0.8687802338157563, 0.8687506770953779, 0.8687499133558332, 0.868736929783574, 0.8687348676868034, 0.8687342566951677, 0.8687238698373603, 0.8687216549926807, 0.8687182945386842, 0.8687126428660537, 0.8687126428660537, 0.8687121082483724, 0.8687077549329678, 0.8687033252436088, 0.8687023323822007, 0.8686958405960712, 0.8686904944192585, 0.8686820932842672, 0.8686793438219065, 0.8686703316952794, 0.8686633052914685, 0.8686587228542005, 1.4515875127550966, 1.4513186764353754, 1.451150195491823, 1.450595262338671, 0.8700383419676788, 0.8698858995545642, 0.8698726868604415, 0.8698543571113696, 0.8691348380863431, 0.8689984342036664, 0.8689684192395611, 0.8688078048133187, 2.5369244130992037, 1.9727207812570524, 1.409249701300351, 1.4091009823682423, 1.4090933814970739, 0.8455321666813268, 0.8455217692632189, 0.8455208370809058, 0.8454991817687086, 0.845491294072213, 0.8454871351049699, 0.8454659100307634, 0.8454651929674456, 0.8454578072152724, 0.8454508517010899, 0.8454503497567675, 0.8454463342021878, 0.8454452586072112, 0.8454440395995709, 0.8454424620602718, 0.845437872855038, 0.8454301285712059, 0.8454271169052712, 0.8454270451989394, 0.8454171497251539, 0.8454149268288689, 0.8454147834162052, 0.8454132775832379, 0.8454048879424199, 0.8454031669904571, 1.4131774873298548, 1.4113485456315102, 0.8469080677754942, 0.8468865558759606, 0.8467397730148098, 0.8465867517027944, 0.8464303601931853, 0.8464010323034878, 0.8462683038833657, 0.8455678764345526, 0.8455500215579397, 0.8455371144182195], \"Total\": [2.0, 2.0, 2.0, 2.0, 1.0, 1.0, 1.0, 1.0, 1.0, 1.0, 1.0, 1.0, 1.0, 1.0, 1.0, 1.0, 1.0, 1.0, 1.0, 1.0, 1.0, 1.0, 1.0, 1.0, 1.0, 1.0, 1.0, 1.0, 1.0, 1.0, 2.8897261439184154, 2.3102337338039267, 1.7307624867136193, 1.7307581423074159, 1.7307542214884062, 1.7307531332754187, 1.1512791585855184, 1.1512790305321583, 1.1512789980629754, 1.15127819558164, 1.151278166831996, 1.1512777497943811, 1.1512777134014833, 1.1512777119136677, 1.1512775073549728, 1.1512773719939149, 1.151277381737512, 1.1512770721865988, 1.1512771438929306, 1.1512771470727376, 1.151277024430908, 1.1512768971214558, 1.1512768543689438, 1.1512766548134277, 1.151276507345669, 1.1512762448793346, 1.1512761844044155, 1.1512759563034314, 1.151275921266969, 1.1512757487691054, 2.294973652338954, 2.2949666158365565, 2.294962270686445, 2.294947501330581, 1.7154270959854485, 1.7154230139727837, 1.715422708418381, 1.7154222335459222, 1.7154031419697087, 1.7153994665071544, 1.7153987794327463, 1.715394556516113, 2.828337599313182, 2.2642159358176617, 1.7000749035323826, 1.7000785697329226, 1.7000789499399958, 1.1359402525610407, 1.135940604777024, 1.1359405318016986, 1.1359411204037397, 1.1359413856268834, 1.1359414654141133, 1.1359420832908842, 1.1359421299671109, 1.1359422670494528, 1.13594249068699, 1.1359425424538374, 1.1359425747188445, 1.1359426065462077, 1.1359427240827706, 1.1359426740225609, 1.135942820002504, 1.135942980422959, 1.1359431191826461, 1.13594310475678, 1.1359434052059159, 1.1359434544347762, 1.1359434255830443, 1.135943504509632, 1.135943783312646, 1.13594376168117, 2.279450669716302, 2.2795005272978273, 1.715385631609701, 1.7153862681569625, 1.7153903238558825, 1.715394556516113, 1.7153987794327463, 1.7153994665071544, 1.7154031419697087, 1.7154222335459222, 1.715422708418381, 1.7154230139727837], \"Category\": [\"Default\", \"Default\", \"Default\", \"Default\", \"Default\", \"Default\", \"Default\", \"Default\", \"Default\", \"Default\", \"Default\", \"Default\", \"Default\", \"Default\", \"Default\", \"Default\", \"Default\", \"Default\", \"Default\", \"Default\", \"Default\", \"Default\", \"Default\", \"Default\", \"Default\", \"Default\", \"Default\", \"Default\", \"Default\", \"Default\", \"Topic1\", \"Topic1\", \"Topic1\", \"Topic1\", \"Topic1\", \"Topic1\", \"Topic1\", \"Topic1\", \"Topic1\", \"Topic1\", \"Topic1\", \"Topic1\", \"Topic1\", \"Topic1\", \"Topic1\", \"Topic1\", \"Topic1\", \"Topic1\", \"Topic1\", \"Topic1\", \"Topic1\", \"Topic1\", \"Topic1\", \"Topic1\", \"Topic1\", \"Topic1\", \"Topic1\", \"Topic1\", \"Topic1\", \"Topic1\", \"Topic1\", \"Topic1\", \"Topic1\", \"Topic1\", \"Topic1\", \"Topic1\", \"Topic1\", \"Topic1\", \"Topic1\", \"Topic1\", \"Topic1\", \"Topic1\", \"Topic2\", \"Topic2\", \"Topic2\", \"Topic2\", \"Topic2\", \"Topic2\", \"Topic2\", \"Topic2\", \"Topic2\", \"Topic2\", \"Topic2\", \"Topic2\", \"Topic2\", \"Topic2\", \"Topic2\", \"Topic2\", \"Topic2\", \"Topic2\", \"Topic2\", \"Topic2\", \"Topic2\", \"Topic2\", \"Topic2\", \"Topic2\", \"Topic2\", \"Topic2\", \"Topic2\", \"Topic2\", \"Topic2\", \"Topic2\", \"Topic2\", \"Topic2\", \"Topic2\", \"Topic2\", \"Topic2\", \"Topic2\", \"Topic2\", \"Topic2\", \"Topic2\", \"Topic2\", \"Topic2\", \"Topic2\"], \"logprob\": [30.0, 29.0, 28.0, 27.0, 26.0, 25.0, 24.0, 23.0, 22.0, 21.0, 20.0, 19.0, 18.0, 17.0, 16.0, 15.0, 14.0, 13.0, 12.0, 11.0, 10.0, 9.0, 8.0, 7.0, 6.0, 5.0, 4.0, 3.0, 2.0, 1.0, -3.4489, -3.7004, -4.0366, -4.0368, -4.0369, -4.0369, -4.5474, -4.5475, -4.5475, -4.5475, -4.5475, -4.5475, -4.5475, -4.5475, -4.5475, -4.5475, -4.5475, -4.5475, -4.5475, -4.5475, -4.5475, -4.5475, -4.5475, -4.5476, -4.5476, -4.5476, -4.5476, -4.5476, -4.5476, -4.5476, -4.0341, -4.0343, -4.0344, -4.0348, -4.546, -4.5462, -4.5462, -4.5462, -4.547, -4.5472, -4.5472, -4.5474, -3.4128, -3.6643, -4.0007, -4.0008, -4.0008, -4.5115, -4.5115, -4.5115, -4.5116, -4.5116, -4.5116, -4.5116, -4.5116, -4.5116, -4.5116, -4.5116, -4.5116, -4.5116, -4.5116, -4.5116, -4.5116, -4.5116, -4.5116, -4.5116, -4.5117, -4.5117, -4.5117, -4.5117, -4.5117, -4.5117, -3.9979, -3.9992, -4.5099, -4.5099, -4.5101, -4.5103, -4.5105, -4.5105, -4.5106, -4.5115, -4.5115, -4.5115], \"loglift\": [30.0, 29.0, 28.0, 27.0, 26.0, 25.0, 24.0, 23.0, 22.0, 21.0, 20.0, 19.0, 18.0, 17.0, 16.0, 15.0, 14.0, 13.0, 12.0, 11.0, 10.0, 9.0, 8.0, 7.0, 6.0, 5.0, 4.0, 3.0, 2.0, 1.0, 0.5588, 0.5311, 0.4837, 0.4836, 0.4835, 0.4835, 0.3806, 0.3806, 0.3806, 0.3805, 0.3805, 0.3805, 0.3805, 0.3805, 0.3805, 0.3805, 0.3805, 0.3805, 0.3805, 0.3805, 0.3805, 0.3805, 0.3805, 0.3805, 0.3805, 0.3805, 0.3805, 0.3805, 0.3804, 0.3804, 0.204, 0.2039, 0.2038, 0.2034, -0.0168, -0.0169, -0.017, -0.017, -0.0178, -0.0179, -0.018, -0.0182, 0.6164, 0.5874, 0.5376, 0.5375, 0.5374, 0.4299, 0.4299, 0.4299, 0.4299, 0.4299, 0.4299, 0.4298, 0.4298, 0.4298, 0.4298, 0.4298, 0.4298, 0.4298, 0.4298, 0.4298, 0.4298, 0.4298, 0.4298, 0.4298, 0.4298, 0.4298, 0.4298, 0.4298, 0.4298, 0.4298, 0.2471, 0.2458, 0.0194, 0.0193, 0.0192, 0.019, 0.0188, 0.0188, 0.0186, 0.0178, 0.0177, 0.0177]}, \"token.table\": {\"Topic\": [1, 1, 1, 2, 1, 1, 2, 1, 1, 1, 2, 1, 1, 1, 2, 1, 1, 1, 1, 1, 2, 1, 2, 2, 2, 2, 2, 1, 2, 1, 1, 2, 1, 2, 2, 1, 2, 2, 1, 2, 2, 2, 1, 2, 2, 1, 2, 1, 2, 1, 1, 2, 1, 2, 1, 2, 1, 2, 2, 1, 2, 2, 1, 2, 1, 2, 1, 2, 1, 2, 1, 1, 2, 1, 2, 2, 1, 1, 2, 2, 2, 2, 1, 1, 2, 1, 2, 1, 2, 2, 1, 2, 2, 1], \"Freq\": [0.8686004049613104, 0.8686004123125296, 0.582946695932456, 0.582946695932456, 0.8686009534016451, 0.43573701091865463, 0.43573701091865463, 0.8686001558544793, 0.8686006745373154, 0.43869259428749646, 0.43869259428749646, 0.5777814794312149, 0.5777831516084089, 0.5829452049231725, 0.5829452049231725, 0.8685998126340984, 0.8657132699326012, 0.8686001547319726, 0.8686003101871341, 0.5829562628617371, 0.5829562628617371, 0.4357348499320836, 0.4357348499320836, 0.8803260752494901, 0.8803255092460398, 0.8803252711384439, 0.58820937708228, 0.582959295899902, 0.582959295899902, 0.8685991610024962, 0.5829590795747802, 0.5829590795747802, 0.5829533452129229, 0.5829533452129229, 0.8803261663372798, 0.5829545942649559, 0.5829545942649559, 0.8803277176594035, 0.43573618592071856, 0.43573618592071856, 0.8803255473970791, 0.8803271125192235, 0.8686007705881232, 0.8803258765925541, 0.8803252543746435, 0.8686015068390459, 0.880326571846821, 0.8686001272747611, 0.8803277742135979, 0.8685990643907924, 0.43573981514619087, 0.43573981514619087, 0.5829465920968842, 0.5829465920968842, 1.0381606597267572, 0.8833079779900732, 0.5829468573069126, 0.5829468573069126, 0.588208108615296, 0.5829548277577085, 0.5829548277577085, 0.880327318060796, 0.8686014804051367, 0.8803255316053537, 0.8686012626837534, 0.8803262561251888, 0.8686008028434967, 0.8803257690574663, 0.8686005844071552, 0.8803261910026645, 0.5777800291354853, 0.8686005820080958, 0.8803261140448528, 0.4387021896483765, 0.4387021896483765, 0.8803264294385705, 0.8686006385072178, 0.5829577012840923, 0.5829577012840923, 0.5882079770679444, 0.8803254704393803, 0.8803260009141972, 0.8685997909434805, 0.5777827883268282, 0.8803257802371297, 0.8686010646613077, 0.8803279906187356, 0.8686016369832832, 1.0606937448798557, 0.8803262160072134, 0.8685991854993429, 0.8803265356739196, 0.8803270506860534, 0.8686013083101563], \"Term\": [\"activity\", \"ahead\", \"air\", \"air\", \"amidst\", \"aroma\", \"aroma\", \"balance\", \"begin\", \"body\", \"body\", \"brew\", \"brisk\", \"calm\", \"calm\", \"chaos\", \"coffee\", \"contribute\", \"crisp\", \"cup\", \"cup\", \"day\", \"day\", \"delicate\", \"depth\", \"dream\", \"embrace\", \"energy\", \"energy\", \"ensure\", \"enter\", \"enter\", \"feel\", \"feel\", \"fill\", \"flavor\", \"flavor\", \"fragrant\", \"freshly\", \"freshly\", \"gentle\", \"hand\", \"harmonious\", \"hold\", \"infusion\", \"invigorate\", \"jasmine\", \"jog\", \"leave\", \"meditation\", \"mind\", \"mind\", \"moment\", \"moment\", \"morning\", \"night\", \"offer\", \"offer\", \"peaceful\", \"perfect\", \"perfect\", \"porcelain\", \"productivity\", \"profound\", \"provide\", \"quiet\", \"reflection\", \"replenish\", \"ritual\", \"room\", \"routine\", \"sacred\", \"savored\", \"sense\", \"sense\", \"serene\", \"set\", \"sip\", \"sip\", \"sleep\", \"solace\", \"soothe\", \"space\", \"spirit\", \"spread\", \"start\", \"steep\", \"structured\", \"tea\", \"teacup\", \"tone\", \"tranquility\", \"warmth\", \"whether\"]}, \"R\": 30, \"lambda.step\": 0.01, \"plot.opts\": {\"xlab\": \"PC1\", \"ylab\": \"PC2\"}, \"topic.order\": [2, 1]};\n",
              "\n",
              "function LDAvis_load_lib(url, callback){\n",
              "  var s = document.createElement('script');\n",
              "  s.src = url;\n",
              "  s.async = true;\n",
              "  s.onreadystatechange = s.onload = callback;\n",
              "  s.onerror = function(){console.warn(\"failed to load library \" + url);};\n",
              "  document.getElementsByTagName(\"head\")[0].appendChild(s);\n",
              "}\n",
              "\n",
              "if(typeof(LDAvis) !== \"undefined\"){\n",
              "   // already loaded: just create the visualization\n",
              "   !function(LDAvis){\n",
              "       new LDAvis(\"#\" + \"ldavis_el96040112330121928142891701\", ldavis_el96040112330121928142891701_data);\n",
              "   }(LDAvis);\n",
              "}else if(typeof define === \"function\" && define.amd){\n",
              "   // require.js is available: use it to load d3/LDAvis\n",
              "   require.config({paths: {d3: \"https://d3js.org/d3.v5\"}});\n",
              "   require([\"d3\"], function(d3){\n",
              "      window.d3 = d3;\n",
              "      LDAvis_load_lib(\"https://cdn.jsdelivr.net/gh/bmabey/pyLDAvis@3.4.0/pyLDAvis/js/ldavis.v3.0.0.js\", function(){\n",
              "        new LDAvis(\"#\" + \"ldavis_el96040112330121928142891701\", ldavis_el96040112330121928142891701_data);\n",
              "      });\n",
              "    });\n",
              "}else{\n",
              "    // require.js not available: dynamically load d3 & LDAvis\n",
              "    LDAvis_load_lib(\"https://d3js.org/d3.v5.js\", function(){\n",
              "         LDAvis_load_lib(\"https://cdn.jsdelivr.net/gh/bmabey/pyLDAvis@3.4.0/pyLDAvis/js/ldavis.v3.0.0.js\", function(){\n",
              "                 new LDAvis(\"#\" + \"ldavis_el96040112330121928142891701\", ldavis_el96040112330121928142891701_data);\n",
              "            })\n",
              "         });\n",
              "}\n",
              "</script>"
            ],
            "text/plain": [
              "PreparedData(topic_coordinates=              x    y  topics  cluster       Freq\n",
              "topic                                           \n",
              "1      0.064154  0.0       1        1  51.576045\n",
              "0     -0.064154  0.0       2        1  48.423955, topic_info=       Term      Freq     Total Category  logprob  loglift\n",
              "61      tea  2.000000  2.000000  Default  30.0000  30.0000\n",
              "19  morning  2.000000  2.000000  Default  29.0000  29.0000\n",
              "77    night  2.000000  2.000000  Default  28.0000  28.0000\n",
              "7    coffee  2.000000  2.000000  Default  27.0000  27.0000\n",
              "42  embrace  1.000000  1.000000  Default  26.0000  26.0000\n",
              "..      ...       ...       ...      ...      ...      ...\n",
              "16   flavor  0.846401  1.715399   Topic2  -4.5105   0.0188\n",
              "15     feel  0.846268  1.715403   Topic2  -4.5106   0.0186\n",
              "52    offer  0.845568  1.715422   Topic2  -4.5115   0.0178\n",
              "37      air  0.845550  1.715423   Topic2  -4.5115   0.0177\n",
              "51   moment  0.845537  1.715423   Topic2  -4.5115   0.0177\n",
              "\n",
              "[114 rows x 6 columns], token_table=      Topic      Freq         Term\n",
              "term                              \n",
              "93        1  0.868600     activity\n",
              "94        1  0.868600        ahead\n",
              "37        1  0.582947          air\n",
              "37        2  0.582947          air\n",
              "96        1  0.868601       amidst\n",
              "...     ...       ...          ...\n",
              "62        2  0.880326       teacup\n",
              "117       1  0.868599         tone\n",
              "63        2  0.880327  tranquility\n",
              "64        2  0.880327       warmth\n",
              "118       1  0.868601      whether\n",
              "\n",
              "[94 rows x 3 columns], R=30, lambda_step=0.01, plot_opts={'xlab': 'PC1', 'ylab': 'PC2'}, topic_order=[2, 1])"
            ]
          },
          "execution_count": 165,
          "metadata": {},
          "output_type": "execute_result"
        }
      ],
      "source": [
        "pyLDAvis.enable_notebook()\n",
        "vis = pyLDAvis.gensim.prepare(lda_model, corpus, id2word)\n",
        "vis"
      ]
    },
    {
      "cell_type": "markdown",
      "metadata": {
        "id": "XjxteHkEa3yC"
      },
      "source": [
        "- Each bubble represents a topic\n",
        "- The larger the bubble, the higher percentage of the number of documents in the corpus is about that topic\n",
        "- Blue bars represent the frequency of each word in the corpus\n",
        "- Red bars give the estimated number of times a term was generated by a given topic\n",
        "- The further the bubbles (topics) are away from each other, the more different they are\n",
        "\n"
      ]
    },
    {
      "cell_type": "markdown",
      "metadata": {
        "id": "gX29WBbWb_KN"
      },
      "source": [
        "# Your Turn!"
      ]
    },
    {
      "cell_type": "markdown",
      "metadata": {
        "id": "zqE5IZwPcVTX"
      },
      "source": [
        "Upload the data I sent you, or upload your own data (can be done on the left side under \"Files\")"
      ]
    },
    {
      "cell_type": "code",
      "execution_count": 43,
      "metadata": {
        "id": "buP1Y5CncViW"
      },
      "outputs": [],
      "source": [
        "folder_path = 'data/'\n",
        "\n",
        "documents = []\n",
        "for filename in os.listdir(folder_path):\n",
        "    file_path = os.path.join(folder_path, filename)\n",
        "    with open(file_path, 'r') as file:\n",
        "        doc = file.read()\n",
        "        documents.append(doc)"
      ]
    },
    {
      "cell_type": "code",
      "execution_count": null,
      "metadata": {
        "id": "IBPK7gyaJVhI"
      },
      "outputs": [],
      "source": [
        "documents"
      ]
    },
    {
      "cell_type": "markdown",
      "metadata": {
        "id": "AKydPP7oc4hj"
      },
      "source": [
        "# 1) Preprocessing"
      ]
    },
    {
      "cell_type": "code",
      "execution_count": null,
      "metadata": {
        "id": "7CSh3BMHdJEm"
      },
      "outputs": [],
      "source": [
        "preprocessed_documents = ..."
      ]
    },
    {
      "cell_type": "markdown",
      "metadata": {
        "id": "55GcibXndH_y"
      },
      "source": [
        "# 2) LDA Model"
      ]
    },
    {
      "cell_type": "code",
      "execution_count": null,
      "metadata": {
        "id": "n67wsmKKdIP_"
      },
      "outputs": [],
      "source": [
        "id2word = ...\n",
        "corpus = ..."
      ]
    },
    {
      "cell_type": "code",
      "execution_count": null,
      "metadata": {
        "id": "xpJh8OjgdQy7"
      },
      "outputs": [],
      "source": [
        "lda_model = ..."
      ]
    },
    {
      "cell_type": "markdown",
      "metadata": {
        "id": "j6fEKJBLdqhO"
      },
      "source": [
        "# 3) Plot Coherence Scores"
      ]
    },
    {
      "cell_type": "code",
      "execution_count": null,
      "metadata": {
        "id": "N3W2XeGidTvW"
      },
      "outputs": [],
      "source": [
        "coherence_scores = ..."
      ]
    },
    {
      "cell_type": "code",
      "execution_count": null,
      "metadata": {
        "id": "L-tUma0pcePT"
      },
      "outputs": [],
      "source": [
        "# plot\n"
      ]
    },
    {
      "cell_type": "markdown",
      "metadata": {
        "id": "GyHVTSK4dnyk"
      },
      "source": [
        "# 4) Visualize Topics"
      ]
    },
    {
      "cell_type": "code",
      "execution_count": null,
      "metadata": {
        "id": "Gy9NSnnUdpUp"
      },
      "outputs": [],
      "source": [
        "..."
      ]
    },
    {
      "cell_type": "markdown",
      "metadata": {
        "id": "eIhwipN3d2AU"
      },
      "source": [
        "# ...Already finished? Download some additional texts from the internet and apply topic modelling on them.\n",
        "\n",
        " You can use wikipedia texts, https://www.gutenberg.org/about/ to download books, or any other webpage that is interesting to you. You can also use texts from your own research!"
      ]
    },
    {
      "cell_type": "code",
      "execution_count": null,
      "metadata": {
        "id": "dUi7koqod-d8"
      },
      "outputs": [],
      "source": []
    }
  ],
  "metadata": {
    "colab": {
      "provenance": []
    },
    "kernelspec": {
      "display_name": "Python 3",
      "name": "python3"
    },
    "language_info": {
      "codemirror_mode": {
        "name": "ipython",
        "version": 3
      },
      "file_extension": ".py",
      "mimetype": "text/x-python",
      "name": "python",
      "nbconvert_exporter": "python",
      "pygments_lexer": "ipython3",
      "version": "3.9.6"
    }
  },
  "nbformat": 4,
  "nbformat_minor": 0
}
